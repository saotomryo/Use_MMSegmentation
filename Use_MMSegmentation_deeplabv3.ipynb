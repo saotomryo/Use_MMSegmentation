{
  "nbformat": 4,
  "nbformat_minor": 0,
  "metadata": {
    "accelerator": "GPU",
    "colab": {
      "name": "Use_MMSegmentation_deeplabv3.ipynb",
      "provenance": [],
      "collapsed_sections": [],
      "mount_file_id": "1oEg57zqgugDvcBkyZL72uaBL_oGgOdHi",
      "authorship_tag": "ABX9TyO062wCb7j8zGLJNYH2+jut",
      "include_colab_link": true
    },
    "kernelspec": {
      "display_name": "Python 3",
      "name": "python3"
    },
    "language_info": {
      "name": "python"
    }
  },
  "cells": [
    {
      "cell_type": "markdown",
      "metadata": {
        "id": "view-in-github",
        "colab_type": "text"
      },
      "source": [
        "<a href=\"https://colab.research.google.com/github/saotomryo/Use_MMSegmentation/blob/main/Use_MMSegmentation_deeplabv3.ipynb\" target=\"_parent\"><img src=\"https://colab.research.google.com/assets/colab-badge.svg\" alt=\"Open In Colab\"/></a>"
      ]
    },
    {
      "cell_type": "markdown",
      "source": [
        "# MMSegmentationを利用したSegmentationタスク学習の実施\n",
        "## MMCVのインストール"
      ],
      "metadata": {
        "id": "6fTQC7Or8j7f"
      }
    },
    {
      "cell_type": "code",
      "metadata": {
        "id": "3M0OWMMLSuq6"
      },
      "source": [
        "!pip install -U openmim\n",
        "!mim install mmcv-full"
      ],
      "execution_count": null,
      "outputs": []
    },
    {
      "cell_type": "markdown",
      "source": [
        "## MMSegmentationのインストール"
      ],
      "metadata": {
        "id": "05YQAD968u9g"
      }
    },
    {
      "cell_type": "code",
      "metadata": {
        "id": "sgbGVr1sSzfq"
      },
      "source": [
        "!rm -rf mmsegmentation\n",
        "!git clone https://github.com/open-mmlab/mmsegmentation.git \n",
        "%cd mmsegmentation\n",
        "!pip install -e ."
      ],
      "execution_count": null,
      "outputs": []
    },
    {
      "cell_type": "code",
      "metadata": {
        "colab": {
          "base_uri": "https://localhost:8080/"
        },
        "id": "a1jBl5IjUowp",
        "outputId": "b7925a92-da65-4e20-e7a3-a68082b939e4"
      },
      "source": [
        "# Check Pytorch installation\n",
        "import torch, torchvision\n",
        "print(torch.__version__, torch.cuda.is_available())\n",
        "\n",
        "# Check MMSegmentation installation\n",
        "import mmseg\n",
        "print(mmseg.__version__)"
      ],
      "execution_count": 5,
      "outputs": [
        {
          "output_type": "stream",
          "name": "stdout",
          "text": [
            "1.12.0+cu113 True\n",
            "0.27.0\n"
          ]
        }
      ]
    },
    {
      "cell_type": "code",
      "metadata": {
        "id": "ABfAw5WjYbhQ",
        "colab": {
          "base_uri": "https://localhost:8080/"
        },
        "outputId": "c4343340-27b5-442d-a4b2-46d159ecafc1"
      },
      "source": [
        "import os.path as osp\n",
        "import numpy as np\n",
        "from PIL import Image\n",
        "import mmcv\n",
        "import matplotlib.pyplot as plt\n",
        "device = \"cuda\" if torch.cuda.is_available() else \"cpu\"\n",
        "print(\"device = \", device)\n",
        "# convert dataset annotation to semantic segmentation map\n",
        "data_root = # データのルートフォルダを指定します。\n",
        "img_dir = # 学習用データの格納フォルダ\n",
        "ann_dir = # アノテーションファイルの格納フォルダ"
      ],
      "execution_count": 22,
      "outputs": [
        {
          "output_type": "stream",
          "name": "stdout",
          "text": [
            "device =  cuda\n"
          ]
        }
      ]
    },
    {
      "cell_type": "markdown",
      "metadata": {
        "id": "Knvbxr-HYYZR"
      },
      "source": [
        "## オリジナルデータセットの設定\n",
        "\n",
        "データ設定の作成や設定については、以下の記事を参照ください。\n",
        "https://qiita.com/ryosao/items/d753a7d2c01f4c3f520f"
      ]
    },
    {
      "cell_type": "code",
      "metadata": {
        "id": "w8luKejoeDEe"
      },
      "source": [
        "## 分類したいクラスの情報\n",
        "classes = ('background','builing')\n",
        "\n",
        "## クラスに対応するアノテーションの色を指定\n",
        "palette = [[0,0,0],[255, 0, 0]]\n"
      ],
      "execution_count": 16,
      "outputs": []
    },
    {
      "cell_type": "markdown",
      "source": [
        "## 利用するオリジナルのデータセットの定義"
      ],
      "metadata": {
        "id": "Ol-tYg1s9m52"
      }
    },
    {
      "cell_type": "code",
      "metadata": {
        "id": "1lUvDad3e5N7"
      },
      "source": [
        "from mmseg.datasets.builder import DATASETS\n",
        "from mmseg.datasets.custom import CustomDataset\n",
        "\n",
        "@DATASETS.register_module()\n",
        "class OriginalDataset(CustomDataset):\n",
        "    CLASSES = classes\n",
        "    PALETTE = palette\n",
        "    def __init__(self, split, **kwargs):\n",
        "        super().__init__(img_suffix='.png', seg_map_suffix='.png', \n",
        "                     split=split, **kwargs)\n",
        "        assert osp.exists(self.img_dir) and self.split is not None"
      ],
      "execution_count": null,
      "outputs": []
    },
    {
      "cell_type": "markdown",
      "source": [
        "## コンフィグファイルの設定"
      ],
      "metadata": {
        "id": "rNCAhST89r1T"
      }
    },
    {
      "cell_type": "code",
      "metadata": {
        "id": "Ynrfl4IyfKrD"
      },
      "source": [
        "from mmcv import Config\n",
        "cfg = Config.fromfile('configs/deeplabv3plus/deeplabv3plus_r50-d8_512x512_20k_voc12aug.py')"
      ],
      "execution_count": 31,
      "outputs": []
    },
    {
      "cell_type": "code",
      "metadata": {
        "id": "2Kn_5Cd2fXzJ"
      },
      "source": [
        "from mmseg.apis import set_random_seed\n",
        "\n",
        "# Since we use ony one GPU, BN is used instead of SyncBN\n",
        "cfg.norm_cfg = dict(type='BN', requires_grad=True)\n",
        "cfg.model.backbone.norm_cfg = cfg.norm_cfg\n",
        "cfg.model.decode_head.norm_cfg = cfg.norm_cfg\n",
        "cfg.model.auxiliary_head.norm_cfg = cfg.norm_cfg\n",
        "\n",
        "# 分類するクラス数\n",
        "cfg.model.decode_head.num_classes = 2  # 分類したいクラス数\n",
        "cfg.model.auxiliary_head.num_classes = 2  # 分類したいクラス数\n",
        "\n",
        "# Modify dataset type and path\n",
        "cfg.dataset_type = 'OriginalDataset' # 作成したデータセットクラスのクラス名\n",
        "cfg.data_root = data_root # データのルートフォルダ\n",
        "\n",
        "# バッチサイズの設定\n",
        "cfg.data.samples_per_gpu = 4\n",
        "cfg.data.workers_per_gpu=4\n",
        "\n",
        "\n",
        "cfg.data.train.type = cfg.dataset_type\n",
        "cfg.data.train.data_root = cfg.data_root\n",
        "cfg.data.train.img_dir = img_dir # 学習データの格納フォルダ\n",
        "cfg.data.train.ann_dir = ann_dir # 学習データのアノテーションファイルの格納フォルダ\n",
        "cfg.data.train.pipeline = cfg.train_pipeline\n",
        "cfg.data.train.split = 'splits/train.txt'\n",
        "\n",
        "cfg.data.val.type = cfg.dataset_type\n",
        "cfg.data.val.data_root = cfg.data_root\n",
        "cfg.data.val.img_dir = img_dir # 検証データの格納フォルダ\n",
        "cfg.data.val.ann_dir = ann_dir  # 検証データのアノテーションファイルの格納フォルダ\n",
        "cfg.data.val.pipeline = cfg.test_pipeline\n",
        "cfg.data.val.split = 'splits/val.txt'\n",
        "\n",
        "cfg.data.test.type = cfg.dataset_type\n",
        "cfg.data.test.data_root = cfg.data_root\n",
        "cfg.data.test.img_dir = img_dir # テストデータの格納フォルダ\n",
        "cfg.data.test.ann_dir = ann_dir  # テストデータのアノテーションファイルの格納フォルダ\n",
        "cfg.data.test.pipeline = cfg.test_pipeline\n",
        "cfg.data.test.split = 'splits/val.txt'\n",
        "\n",
        "# Set up working dir to save files and logs.\n",
        "cfg.work_dir = './work_dirs/tutorial'\n",
        "\n",
        "# 学習のエポック数等の設定\n",
        "#cfg.runner.max_iters = 200\n",
        "#cfg.log_config.interval = 10\n",
        "#cfg.evaluation.interval = 200\n",
        "#cfg.checkpoint_config.interval = 200\n",
        "\n",
        "# Set seed to facitate reproducing the result\n",
        "cfg.seed = 0\n",
        "set_random_seed(0, deterministic=False)\n",
        "cfg.gpu_ids = range(1)\n",
        "\n",
        "cfg.device = device\n",
        "\n",
        "# Let's have a look at the final config used for training\n",
        "print(f'Config:\\n{cfg.pretty_text}')"
      ],
      "execution_count": null,
      "outputs": []
    },
    {
      "cell_type": "code",
      "metadata": {
        "id": "L_YpsbP-fuo2"
      },
      "source": [
        "from mmseg.datasets import build_dataset\n",
        "from mmseg.models import build_segmentor\n",
        "from mmseg.apis import train_segmentor\n",
        "\n",
        "\n",
        "# Build the dataset\n",
        "datasets = [build_dataset(cfg.data.train)]\n",
        "\n",
        "# Build the detector\n",
        "model = build_segmentor(\n",
        "    cfg.model, train_cfg=cfg.get('train_cfg'), test_cfg=cfg.get('test_cfg'))\n",
        "# Add an attribute for visualization convenience\n",
        "model.CLASSES = datasets[0].CLASSES\n",
        "\n",
        "# Create work_dir\n",
        "mmcv.mkdir_or_exist(osp.abspath(cfg.work_dir))\n",
        "train_segmentor(model, datasets, cfg, distributed=False, validate=True, \n",
        "                meta=dict())"
      ],
      "execution_count": null,
      "outputs": []
    },
    {
      "cell_type": "code",
      "metadata": {
        "id": "C0qHSURCf4F3"
      },
      "source": [
        "from mmseg.apis import inference_segmentor, init_segmentor, show_result_pyplot\n",
        "from mmseg.core.evaluation import get_palette\n",
        "\n",
        "img = mmcv.imread('確認する画像のパス')\n",
        "\n",
        "model.cfg = cfg\n",
        "result = inference_segmentor(model, img)\n",
        "plt.figure(figsize=(8, 6))\n",
        "show_result_pyplot(model, img, result, palette)"
      ],
      "execution_count": null,
      "outputs": []
    }
  ]
}